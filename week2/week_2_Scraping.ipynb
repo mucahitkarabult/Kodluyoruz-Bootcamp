{
  "cells": [
    {
      "cell_type": "code",
      "execution_count": 2,
      "metadata": {
        "id": "9bGM8FaQAM8t"
      },
      "outputs": [],
      "source": [
        "import requests\n",
        "from bs4 import BeautifulSoup\n",
        "import pandas as pd"
      ]
    },
    {
      "cell_type": "code",
      "execution_count": 3,
      "metadata": {
        "id": "HUjMnBnbIQY6"
      },
      "outputs": [],
      "source": [
        "def get_links(page_nunber):\n",
        "  base_url='https://www.transfermarkt.com/detailsuche/spielerdetail/suche/33458126/ajax/yw0/page/'\n",
        "  links=[]\n",
        "  for i in range(1,(page_number+1)):\n",
        "    url=base_url+str(i)\n",
        "    links.append(url)\n",
        "  return links\n"
      ]
    },
    {
      "cell_type": "code",
      "execution_count": 4,
      "metadata": {
        "id": "DsvFzNVcIZcN"
      },
      "outputs": [],
      "source": [
        "page_number=15 # how many page we scrapt\n",
        "links=get_links(page_number)"
      ]
    },
    {
      "cell_type": "code",
      "execution_count": 5,
      "metadata": {
        "colab": {
          "base_uri": "https://localhost:8080/"
        },
        "id": "pz0FEUM2jbiG",
        "outputId": "7d735cb7-388e-4340-a560-7219a76f988e"
      },
      "outputs": [
        {
          "data": {
            "text/plain": [
              "['https://www.transfermarkt.com/detailsuche/spielerdetail/suche/33458126/ajax/yw0/page/1',\n",
              " 'https://www.transfermarkt.com/detailsuche/spielerdetail/suche/33458126/ajax/yw0/page/2',\n",
              " 'https://www.transfermarkt.com/detailsuche/spielerdetail/suche/33458126/ajax/yw0/page/3',\n",
              " 'https://www.transfermarkt.com/detailsuche/spielerdetail/suche/33458126/ajax/yw0/page/4',\n",
              " 'https://www.transfermarkt.com/detailsuche/spielerdetail/suche/33458126/ajax/yw0/page/5',\n",
              " 'https://www.transfermarkt.com/detailsuche/spielerdetail/suche/33458126/ajax/yw0/page/6',\n",
              " 'https://www.transfermarkt.com/detailsuche/spielerdetail/suche/33458126/ajax/yw0/page/7',\n",
              " 'https://www.transfermarkt.com/detailsuche/spielerdetail/suche/33458126/ajax/yw0/page/8',\n",
              " 'https://www.transfermarkt.com/detailsuche/spielerdetail/suche/33458126/ajax/yw0/page/9',\n",
              " 'https://www.transfermarkt.com/detailsuche/spielerdetail/suche/33458126/ajax/yw0/page/10',\n",
              " 'https://www.transfermarkt.com/detailsuche/spielerdetail/suche/33458126/ajax/yw0/page/11',\n",
              " 'https://www.transfermarkt.com/detailsuche/spielerdetail/suche/33458126/ajax/yw0/page/12',\n",
              " 'https://www.transfermarkt.com/detailsuche/spielerdetail/suche/33458126/ajax/yw0/page/13',\n",
              " 'https://www.transfermarkt.com/detailsuche/spielerdetail/suche/33458126/ajax/yw0/page/14',\n",
              " 'https://www.transfermarkt.com/detailsuche/spielerdetail/suche/33458126/ajax/yw0/page/15']"
            ]
          },
          "execution_count": 5,
          "metadata": {},
          "output_type": "execute_result"
        }
      ],
      "source": [
        "links"
      ]
    },
    {
      "cell_type": "code",
      "execution_count": 6,
      "metadata": {
        "id": "cXNTHpXKoVb3"
      },
      "outputs": [],
      "source": [
        "def get_team_name(raw_data,team_names):\n",
        "    teams=raw_data.findAll(\"img\",{\"class\":\"\",})\n",
        "    for i in teams:\n",
        "      team_names.append(i.get(\"alt\"))"
      ]
    },
    {
      "cell_type": "code",
      "execution_count": 7,
      "metadata": {
        "id": "0JfCi7xMoVe0"
      },
      "outputs": [],
      "source": [
        "def get_value_of_player(raw_data,value_of_player):\n",
        "  values=raw_data.findAll(\"td\",{\"class\":\"rechts hauptlink\"})\n",
        "  for i in values:\n",
        "    value_of_player.append(i.text.replace(\"\\xa0\",\"\"))\n",
        "      "
      ]
    },
    {
      "cell_type": "code",
      "execution_count": 8,
      "metadata": {
        "id": "iz5kZzltoBi3"
      },
      "outputs": [],
      "source": [
        "def get_birth_age(raw_data,birth_age):\n",
        "  info=raw_data.findAll(\"td\",{\"class\":\"zentriert\"})\n",
        "  for i in range(1,len(info),6):\n",
        "\n",
        "    birth_age.append(info[i].text)\n",
        " "
      ]
    },
    {
      "cell_type": "code",
      "execution_count": 9,
      "metadata": {
        "id": "SOyXneqOnhaC"
      },
      "outputs": [],
      "source": [
        "def get_players_name(raw_data,player_names):\n",
        "    data=raw_data.findAll(\"img\",{\"class\":\"bilderrahmen-fixed\",})\n",
        "    for i in data:\n",
        "      player_names.append(i.get(\"title\"))"
      ]
    },
    {
      "cell_type": "code",
      "execution_count": 10,
      "metadata": {
        "id": "5jFQza7qjrJv"
      },
      "outputs": [],
      "source": [
        "def get_national_team_name(raw_data,national_team_name):\n",
        "    national_t=raw_data.findAll(\"td\",{\"class\":\"hauptlink\"})\n",
        "    for i in range(1,len(national_t),3):\n",
        "      national_team_name.append(national_t[i].text)\n",
        "  "
      ]
    },
    {
      "cell_type": "code",
      "execution_count": 11,
      "metadata": {
        "id": "7PpDsVtVmiGo"
      },
      "outputs": [],
      "source": [
        "def get_national_match_number(raw_data,national_match_number):\n",
        "  info=raw_data.findAll(\"td\",{\"class\":\"zentriert\"})\n",
        "  for i in range(5,len(info),6):\n",
        "    national_match_number.append(info[i].text)"
      ]
    },
    {
      "cell_type": "code",
      "execution_count": 12,
      "metadata": {
        "id": "JQhHAZBEnDiC"
      },
      "outputs": [],
      "source": [
        "def get_height(raw_data,height_of_player):\n",
        "  info=raw_data.findAll(\"td\",{\"class\":\"zentriert\"})\n",
        "  for i in range(4,len(info),6):\n",
        "    height_of_player.append(info[i].text)\n",
        " "
      ]
    },
    {
      "cell_type": "code",
      "execution_count": 13,
      "metadata": {
        "id": "ZYkLBH37jrTX"
      },
      "outputs": [],
      "source": [
        "national_team_name=[]\n",
        "national_match_number=[]\n",
        "height_of_player=[]  \n",
        "player_names=[]\n",
        "birth_age=[]\n",
        "value_of_player=[]\n",
        "team_names=[]"
      ]
    },
    {
      "cell_type": "code",
      "execution_count": 14,
      "metadata": {
        "id": "qN3f-6wNBB1Q"
      },
      "outputs": [],
      "source": [
        "headers = {'User-Agent': 'Mozilla/5.0 (Macintosh; Intel Mac OS X 10_11_6) AppleWebKit/537.36 (KHTML, like Gecko) Chrome/61.0.3163.100 Safari/537.36'}"
      ]
    },
    {
      "cell_type": "code",
      "execution_count": 15,
      "metadata": {
        "id": "TYavuHlPA0-S"
      },
      "outputs": [],
      "source": [
        "for url in links:\n",
        "  response = requests.get(url, headers=headers)\n",
        "  bs=BeautifulSoup(response.text)\n",
        "  raw_data=bs.find(\"div\",{\"class\":\"responsive-table\"})\n",
        "  get_players_name(raw_data,player_names)\n",
        "  get_birth_age(raw_data,birth_age)\n",
        "  get_national_team_name(raw_data,national_team_name)\n",
        "  get_national_match_number(raw_data,national_match_number)\n",
        "  get_height(raw_data,height_of_player)\n",
        "  get_team_name(raw_data,team_names)\n",
        "  get_value_of_player(raw_data,value_of_player)"
      ]
    },
    {
      "cell_type": "code",
      "execution_count": 335,
      "metadata": {
        "id": "E_9hcB7nnSIc"
      },
      "outputs": [],
      "source": []
    },
    {
      "cell_type": "code",
      "execution_count": 16,
      "metadata": {
        "id": "cO_Ee2LMpfPB"
      },
      "outputs": [],
      "source": [
        "dataframe_dict={\"Player Name\":player_names,\"Team of Player\":team_names,\"National Team\":national_team_name,\"International matches\":national_match_number,\n",
        "                \"Born_date/Age\":birth_age,\"Height\":height_of_player,\"Value\":value_of_player\n",
        "                }"
      ]
    },
    {
      "cell_type": "code",
      "execution_count": 17,
      "metadata": {
        "id": "_YofwvXWFtjd"
      },
      "outputs": [],
      "source": [
        "DataFrame=pd.DataFrame.from_dict(dataframe_dict)"
      ]
    },
    {
      "cell_type": "code",
      "execution_count": 18,
      "metadata": {
        "colab": {
          "base_uri": "https://localhost:8080/",
          "height": 337
        },
        "id": "kyyj5E_hCKqA",
        "outputId": "573b975e-f076-4d71-ef21-1ff9e70c35ed"
      },
      "outputs": [
        {
          "data": {
            "text/html": [
              "<div>\n",
              "<style scoped>\n",
              "    .dataframe tbody tr th:only-of-type {\n",
              "        vertical-align: middle;\n",
              "    }\n",
              "\n",
              "    .dataframe tbody tr th {\n",
              "        vertical-align: top;\n",
              "    }\n",
              "\n",
              "    .dataframe thead th {\n",
              "        text-align: right;\n",
              "    }\n",
              "</style>\n",
              "<table border=\"1\" class=\"dataframe\">\n",
              "  <thead>\n",
              "    <tr style=\"text-align: right;\">\n",
              "      <th></th>\n",
              "      <th>Player Name</th>\n",
              "      <th>Team of Player</th>\n",
              "      <th>National Team</th>\n",
              "      <th>International matches</th>\n",
              "      <th>Born_date/Age</th>\n",
              "      <th>Height</th>\n",
              "      <th>Value</th>\n",
              "    </tr>\n",
              "  </thead>\n",
              "  <tbody>\n",
              "    <tr>\n",
              "      <th>0</th>\n",
              "      <td>Kylian Mbappé</td>\n",
              "      <td>Paris Saint-Germain</td>\n",
              "      <td>France</td>\n",
              "      <td>53</td>\n",
              "      <td>Dec 20, 1998 (23)</td>\n",
              "      <td>1,78</td>\n",
              "      <td>€160.00m</td>\n",
              "    </tr>\n",
              "    <tr>\n",
              "      <th>1</th>\n",
              "      <td>Erling Haaland</td>\n",
              "      <td>Borussia Dortmund</td>\n",
              "      <td>Norway</td>\n",
              "      <td>15</td>\n",
              "      <td>Jul 21, 2000 (21)</td>\n",
              "      <td>1,94</td>\n",
              "      <td>€150.00m</td>\n",
              "    </tr>\n",
              "    <tr>\n",
              "      <th>2</th>\n",
              "      <td>Vinicius Junior</td>\n",
              "      <td>Real Madrid</td>\n",
              "      <td>Brazil</td>\n",
              "      <td>11</td>\n",
              "      <td>Jul 12, 2000 (21)</td>\n",
              "      <td>1,76</td>\n",
              "      <td>€100.00m</td>\n",
              "    </tr>\n",
              "    <tr>\n",
              "      <th>3</th>\n",
              "      <td>Mohamed Salah</td>\n",
              "      <td>Liverpool FC</td>\n",
              "      <td>Egypt</td>\n",
              "      <td>80</td>\n",
              "      <td>Jun 15, 1992 (29)</td>\n",
              "      <td>1,75</td>\n",
              "      <td>€100.00m</td>\n",
              "    </tr>\n",
              "    <tr>\n",
              "      <th>4</th>\n",
              "      <td>Harry Kane</td>\n",
              "      <td>Tottenham Hotspur</td>\n",
              "      <td>England</td>\n",
              "      <td>67</td>\n",
              "      <td>Jul 28, 1993 (28)</td>\n",
              "      <td>1,88</td>\n",
              "      <td>€100.00m</td>\n",
              "    </tr>\n",
              "  </tbody>\n",
              "</table>\n",
              "</div>"
            ],
            "text/plain": [
              "       Player Name       Team of Player National Team International matches  \\\n",
              "0    Kylian Mbappé  Paris Saint-Germain        France                    53   \n",
              "1   Erling Haaland    Borussia Dortmund        Norway                    15   \n",
              "2  Vinicius Junior          Real Madrid        Brazil                    11   \n",
              "3    Mohamed Salah         Liverpool FC         Egypt                    80   \n",
              "4       Harry Kane    Tottenham Hotspur       England                    67   \n",
              "\n",
              "       Born_date/Age Height     Value  \n",
              "0  Dec 20, 1998 (23)   1,78  €160.00m  \n",
              "1  Jul 21, 2000 (21)   1,94  €150.00m  \n",
              "2  Jul 12, 2000 (21)   1,76  €100.00m  \n",
              "3  Jun 15, 1992 (29)   1,75  €100.00m  \n",
              "4  Jul 28, 1993 (28)   1,88  €100.00m  "
            ]
          },
          "execution_count": 18,
          "metadata": {},
          "output_type": "execute_result"
        }
      ],
      "source": [
        "DataFrame.head()"
      ]
    },
    {
      "cell_type": "code",
      "execution_count": 19,
      "metadata": {
        "colab": {
          "base_uri": "https://localhost:8080/",
          "height": 354
        },
        "id": "6XzBwassjfMX",
        "outputId": "e721a832-d72d-414b-98ae-8898be9f7b68"
      },
      "outputs": [
        {
          "data": {
            "text/html": [
              "<div>\n",
              "<style scoped>\n",
              "    .dataframe tbody tr th:only-of-type {\n",
              "        vertical-align: middle;\n",
              "    }\n",
              "\n",
              "    .dataframe tbody tr th {\n",
              "        vertical-align: top;\n",
              "    }\n",
              "\n",
              "    .dataframe thead th {\n",
              "        text-align: right;\n",
              "    }\n",
              "</style>\n",
              "<table border=\"1\" class=\"dataframe\">\n",
              "  <thead>\n",
              "    <tr style=\"text-align: right;\">\n",
              "      <th></th>\n",
              "      <th>Player Name</th>\n",
              "      <th>Team of Player</th>\n",
              "      <th>National Team</th>\n",
              "      <th>International matches</th>\n",
              "      <th>Born_date/Age</th>\n",
              "      <th>Height</th>\n",
              "      <th>Value</th>\n",
              "    </tr>\n",
              "  </thead>\n",
              "  <tbody>\n",
              "    <tr>\n",
              "      <th>370</th>\n",
              "      <td>Konrad Laimer</td>\n",
              "      <td>RB Leipzig</td>\n",
              "      <td>Austria</td>\n",
              "      <td>18</td>\n",
              "      <td>May 27, 1997 (24)</td>\n",
              "      <td>1,80</td>\n",
              "      <td>€26.00m</td>\n",
              "    </tr>\n",
              "    <tr>\n",
              "      <th>371</th>\n",
              "      <td>Leonardo Spinazzola</td>\n",
              "      <td>AS Roma</td>\n",
              "      <td>Italy</td>\n",
              "      <td>18</td>\n",
              "      <td>Mar 25, 1993 (28)</td>\n",
              "      <td>1,86</td>\n",
              "      <td>€26.00m</td>\n",
              "    </tr>\n",
              "    <tr>\n",
              "      <th>372</th>\n",
              "      <td>Pedro Porro</td>\n",
              "      <td>Sporting CP</td>\n",
              "      <td>Spain</td>\n",
              "      <td>1</td>\n",
              "      <td>Sep 13, 1999 (22)</td>\n",
              "      <td>1,76</td>\n",
              "      <td>€25.00m</td>\n",
              "    </tr>\n",
              "    <tr>\n",
              "      <th>373</th>\n",
              "      <td>Jérémy Doku</td>\n",
              "      <td>Stade Rennais FC</td>\n",
              "      <td>Belgium</td>\n",
              "      <td>10</td>\n",
              "      <td>May 27, 2002 (19)</td>\n",
              "      <td>1,73</td>\n",
              "      <td>€25.00m</td>\n",
              "    </tr>\n",
              "    <tr>\n",
              "      <th>374</th>\n",
              "      <td>Emerson Royal</td>\n",
              "      <td>Tottenham Hotspur</td>\n",
              "      <td>Brazil</td>\n",
              "      <td>6</td>\n",
              "      <td>Jan 14, 1999 (23)</td>\n",
              "      <td>1,83</td>\n",
              "      <td>€25.00m</td>\n",
              "    </tr>\n",
              "  </tbody>\n",
              "</table>\n",
              "</div>"
            ],
            "text/plain": [
              "             Player Name     Team of Player National Team  \\\n",
              "370        Konrad Laimer         RB Leipzig       Austria   \n",
              "371  Leonardo Spinazzola            AS Roma         Italy   \n",
              "372          Pedro Porro        Sporting CP         Spain   \n",
              "373          Jérémy Doku   Stade Rennais FC       Belgium   \n",
              "374        Emerson Royal  Tottenham Hotspur        Brazil   \n",
              "\n",
              "    International matches      Born_date/Age Height    Value  \n",
              "370                    18  May 27, 1997 (24)   1,80  €26.00m  \n",
              "371                    18  Mar 25, 1993 (28)   1,86  €26.00m  \n",
              "372                     1  Sep 13, 1999 (22)   1,76  €25.00m  \n",
              "373                    10  May 27, 2002 (19)   1,73  €25.00m  \n",
              "374                     6  Jan 14, 1999 (23)   1,83  €25.00m  "
            ]
          },
          "execution_count": 19,
          "metadata": {},
          "output_type": "execute_result"
        }
      ],
      "source": [
        "DataFrame.tail()"
      ]
    },
    {
      "cell_type": "code",
      "execution_count": 20,
      "metadata": {
        "id": "_F-ndiXnCOTA"
      },
      "outputs": [],
      "source": [
        "DataFrame.to_csv(\"result.csv\")"
      ]
    },
    {
      "cell_type": "code",
      "execution_count": null,
      "metadata": {
        "id": "qd6F0HVQENp7"
      },
      "outputs": [],
      "source": []
    },
    {
      "cell_type": "code",
      "execution_count": 205,
      "metadata": {
        "id": "lWKY-7UiCao0"
      },
      "outputs": [],
      "source": []
    },
    {
      "cell_type": "code",
      "execution_count": null,
      "metadata": {
        "id": "BVWeiYvEfikr"
      },
      "outputs": [],
      "source": []
    },
    {
      "cell_type": "code",
      "execution_count": 269,
      "metadata": {
        "id": "vBR_096ihlCU"
      },
      "outputs": [],
      "source": []
    },
    {
      "cell_type": "code",
      "execution_count": 283,
      "metadata": {
        "id": "gKKAKtDViQy2"
      },
      "outputs": [],
      "source": []
    },
    {
      "cell_type": "code",
      "execution_count": 284,
      "metadata": {
        "id": "M9xLd7OeiNKT"
      },
      "outputs": [],
      "source": []
    },
    {
      "cell_type": "code",
      "execution_count": 285,
      "metadata": {
        "colab": {
          "base_uri": "https://localhost:8080/"
        },
        "id": "866TKT_4icin",
        "outputId": "c4190662-d639-4962-c922-fb57aa1ede86"
      },
      "outputs": [
        {
          "data": {
            "text/plain": [
              "['France',\n",
              " 'Norway',\n",
              " 'Brazil',\n",
              " 'Egypt',\n",
              " 'England',\n",
              " 'Belgium',\n",
              " 'Portugal',\n",
              " 'Belgium',\n",
              " 'Brazil',\n",
              " 'England',\n",
              " 'England',\n",
              " 'England',\n",
              " 'Germany',\n",
              " 'England',\n",
              " 'Spain',\n",
              " 'Argentina',\n",
              " 'England',\n",
              " 'England',\n",
              " 'Senegal',\n",
              " 'South Korea',\n",
              " 'England',\n",
              " 'Republic of Ireland',\n",
              " 'England',\n",
              " 'Portugal',\n",
              " 'Portugal']"
            ]
          },
          "execution_count": 285,
          "metadata": {},
          "output_type": "execute_result"
        }
      ],
      "source": []
    },
    {
      "cell_type": "code",
      "execution_count": 256,
      "metadata": {
        "id": "OgKDBnFWgpW9"
      },
      "outputs": [],
      "source": []
    },
    {
      "cell_type": "code",
      "execution_count": 257,
      "metadata": {
        "id": "mc6D1N43gxa2"
      },
      "outputs": [],
      "source": []
    },
    {
      "cell_type": "code",
      "execution_count": 258,
      "metadata": {
        "colab": {
          "base_uri": "https://localhost:8080/"
        },
        "id": "_5jhJDM-g0SN",
        "outputId": "f08b1d63-53bf-479f-e4f7-a25a51d60d2e"
      },
      "outputs": [
        {
          "data": {
            "text/plain": [
              "['1,78',\n",
              " '1,94',\n",
              " '1,76',\n",
              " '1,75',\n",
              " '1,88',\n",
              " '1,91',\n",
              " '1,79',\n",
              " '1,81',\n",
              " '1,75',\n",
              " '1,71',\n",
              " '1,80',\n",
              " '1,85',\n",
              " '1,77',\n",
              " '1,70',\n",
              " '1,74',\n",
              " '1,74',\n",
              " '1,80',\n",
              " '1,80',\n",
              " '1,74',\n",
              " '1,84',\n",
              " '1,86',\n",
              " '1,88',\n",
              " '1,80',\n",
              " '1,87',\n",
              " '1,73']"
            ]
          },
          "execution_count": 258,
          "metadata": {},
          "output_type": "execute_result"
        }
      ],
      "source": []
    },
    {
      "cell_type": "code",
      "execution_count": 253,
      "metadata": {
        "id": "143ZfP73gZxZ"
      },
      "outputs": [],
      "source": []
    },
    {
      "cell_type": "code",
      "execution_count": 254,
      "metadata": {
        "id": "3ZCojAg6Y9vf"
      },
      "outputs": [],
      "source": []
    },
    {
      "cell_type": "code",
      "execution_count": 227,
      "metadata": {
        "colab": {
          "base_uri": "https://localhost:8080/",
          "height": 36
        },
        "id": "2G0sz6ckbUsj",
        "outputId": "6a12a8c8-7f54-4a1f-cd87-84091ae72c5d"
      },
      "outputs": [
        {
          "data": {
            "application/vnd.google.colaboratory.intrinsic+json": {
              "type": "string"
            },
            "text/plain": [
              "'€100.00m'"
            ]
          },
          "execution_count": 227,
          "metadata": {},
          "output_type": "execute_result"
        }
      ],
      "source": []
    },
    {
      "cell_type": "code",
      "execution_count": 210,
      "metadata": {
        "colab": {
          "base_uri": "https://localhost:8080/"
        },
        "id": "y2_SoB9Ias5T",
        "outputId": "3999b8a5-58b1-4878-a81a-d205482b9ba5"
      },
      "outputs": [
        {
          "data": {
            "text/plain": [
              "[<img alt=\"Paris Saint-Germain\" class=\"\" src=\"https://tmssl.akamaized.net/images/wappen/verysmall/583.png?lm=1522312728\" title=\" \"/>,\n",
              " <img alt=\"Borussia Dortmund\" class=\"\" src=\"https://tmssl.akamaized.net/images/wappen/verysmall/16.png?lm=1396275280\" title=\" \"/>,\n",
              " <img alt=\"Real Madrid\" class=\"\" src=\"https://tmssl.akamaized.net/images/wappen/verysmall/418.png?lm=1580722449\" title=\" \"/>,\n",
              " <img alt=\"Liverpool FC\" class=\"\" src=\"https://tmssl.akamaized.net/images/wappen/verysmall/31.png?lm=1456567819\" title=\" \"/>,\n",
              " <img alt=\"Tottenham Hotspur\" class=\"\" src=\"https://tmssl.akamaized.net/images/wappen/verysmall/148.png?lm=1544345801\" title=\" \"/>,\n",
              " <img alt=\"Chelsea FC\" class=\"\" src=\"https://tmssl.akamaized.net/images/wappen/verysmall/631.png?lm=1628160548\" title=\" \"/>,\n",
              " <img alt=\"Manchester United\" class=\"\" src=\"https://tmssl.akamaized.net/images/wappen/verysmall/985.png?lm=1457975903\" title=\" \"/>,\n",
              " <img alt=\"Manchester City\" class=\"\" src=\"https://tmssl.akamaized.net/images/wappen/verysmall/281.png?lm=1467356331\" title=\" \"/>,\n",
              " <img alt=\"Paris Saint-Germain\" class=\"\" src=\"https://tmssl.akamaized.net/images/wappen/verysmall/583.png?lm=1522312728\" title=\" \"/>,\n",
              " <img alt=\"Manchester City\" class=\"\" src=\"https://tmssl.akamaized.net/images/wappen/verysmall/281.png?lm=1467356331\" title=\" \"/>,\n",
              " <img alt=\"Manchester United\" class=\"\" src=\"https://tmssl.akamaized.net/images/wappen/verysmall/985.png?lm=1457975903\" title=\" \"/>,\n",
              " <img alt=\"Manchester United\" class=\"\" src=\"https://tmssl.akamaized.net/images/wappen/verysmall/985.png?lm=1457975903\" title=\" \"/>,\n",
              " <img alt=\"Bayern Munich\" class=\"\" src=\"https://tmssl.akamaized.net/images/wappen/verysmall/27.png?lm=1498251238\" title=\" \"/>,\n",
              " <img alt=\"Manchester City\" class=\"\" src=\"https://tmssl.akamaized.net/images/wappen/verysmall/281.png?lm=1467356331\" title=\" \"/>,\n",
              " <img alt=\"FC Barcelona\" class=\"\" src=\"https://tmssl.akamaized.net/images/wappen/verysmall/131.png?lm=1406739548\" title=\" \"/>,\n",
              " <img alt=\"Inter Milan\" class=\"\" src=\"https://tmssl.akamaized.net/images/wappen/verysmall/46.png?lm=1618900989\" title=\" \"/>,\n",
              " <img alt=\"Liverpool FC\" class=\"\" src=\"https://tmssl.akamaized.net/images/wappen/verysmall/31.png?lm=1456567819\" title=\" \"/>,\n",
              " <img alt=\"Manchester City\" class=\"\" src=\"https://tmssl.akamaized.net/images/wappen/verysmall/281.png?lm=1467356331\" title=\" \"/>,\n",
              " <img alt=\"Liverpool FC\" class=\"\" src=\"https://tmssl.akamaized.net/images/wappen/verysmall/31.png?lm=1456567819\" title=\" \"/>,\n",
              " <img alt=\"Tottenham Hotspur\" class=\"\" src=\"https://tmssl.akamaized.net/images/wappen/verysmall/148.png?lm=1544345801\" title=\" \"/>,\n",
              " <img alt=\"Borussia Dortmund\" class=\"\" src=\"https://tmssl.akamaized.net/images/wappen/verysmall/16.png?lm=1396275280\" title=\" \"/>,\n",
              " <img alt=\"West Ham United\" class=\"\" src=\"https://tmssl.akamaized.net/images/wappen/verysmall/379.png?lm=1464675260\" title=\" \"/>,\n",
              " <img alt=\"Chelsea FC\" class=\"\" src=\"https://tmssl.akamaized.net/images/wappen/verysmall/631.png?lm=1628160548\" title=\" \"/>,\n",
              " <img alt=\"Manchester City\" class=\"\" src=\"https://tmssl.akamaized.net/images/wappen/verysmall/281.png?lm=1467356331\" title=\" \"/>,\n",
              " <img alt=\"Manchester City\" class=\"\" src=\"https://tmssl.akamaized.net/images/wappen/verysmall/281.png?lm=1467356331\" title=\" \"/>]"
            ]
          },
          "execution_count": 210,
          "metadata": {},
          "output_type": "execute_result"
        }
      ],
      "source": []
    },
    {
      "cell_type": "code",
      "execution_count": 189,
      "metadata": {
        "colab": {
          "base_uri": "https://localhost:8080/"
        },
        "id": "I7ikTo2lZaGL",
        "outputId": "c27e0beb-a855-49ee-d6c8-6aa9a145bd7f"
      },
      "outputs": [
        {
          "data": {
            "text/plain": [
              "[<img alt=\"France\" class=\"flaggenrahmen\" src=\"https://tmssl.akamaized.net/images/flagge/verysmall/50.png?lm=1520611569\" title=\"France\"/>,\n",
              " <img alt=\"France\" class=\"flaggenrahmen\" src=\"https://tmssl.akamaized.net/images/flagge/verysmall/50.png?lm=1520611569\" title=\"France\"/>,\n",
              " <img alt=\"Norway\" class=\"flaggenrahmen\" src=\"https://tmssl.akamaized.net/images/flagge/verysmall/125.png?lm=1520611569\" title=\"Norway\"/>,\n",
              " <img alt=\"England\" class=\"flaggenrahmen\" src=\"https://tmssl.akamaized.net/images/flagge/verysmall/189.png?lm=1520611569\" title=\"England\"/>,\n",
              " <img alt=\"Norway\" class=\"flaggenrahmen\" src=\"https://tmssl.akamaized.net/images/flagge/verysmall/125.png?lm=1520611569\" title=\"Norway\"/>,\n",
              " <img alt=\"Brazil\" class=\"flaggenrahmen\" src=\"https://tmssl.akamaized.net/images/flagge/verysmall/26.png?lm=1520611569\" title=\"Brazil\"/>,\n",
              " <img alt=\"Brazil\" class=\"flaggenrahmen\" src=\"https://tmssl.akamaized.net/images/flagge/verysmall/26.png?lm=1520611569\" title=\"Brazil\"/>,\n",
              " <img alt=\"Egypt\" class=\"flaggenrahmen\" src=\"https://tmssl.akamaized.net/images/flagge/verysmall/2.png?lm=1520611569\" title=\"Egypt\"/>,\n",
              " <img alt=\"Egypt\" class=\"flaggenrahmen\" src=\"https://tmssl.akamaized.net/images/flagge/verysmall/2.png?lm=1520611569\" title=\"Egypt\"/>,\n",
              " <img alt=\"England\" class=\"flaggenrahmen\" src=\"https://tmssl.akamaized.net/images/flagge/verysmall/189.png?lm=1520611569\" title=\"England\"/>,\n",
              " <img alt=\"England\" class=\"flaggenrahmen\" src=\"https://tmssl.akamaized.net/images/flagge/verysmall/189.png?lm=1520611569\" title=\"England\"/>,\n",
              " <img alt=\"Belgium\" class=\"flaggenrahmen\" src=\"https://tmssl.akamaized.net/images/flagge/verysmall/19.png?lm=1520611569\" title=\"Belgium\"/>,\n",
              " <img alt=\"DR Congo\" class=\"flaggenrahmen\" src=\"https://tmssl.akamaized.net/images/flagge/verysmall/193.png?lm=1520611569\" title=\"DR Congo\"/>,\n",
              " <img alt=\"Belgium\" class=\"flaggenrahmen\" src=\"https://tmssl.akamaized.net/images/flagge/verysmall/19.png?lm=1520611569\" title=\"Belgium\"/>,\n",
              " <img alt=\"Portugal\" class=\"flaggenrahmen\" src=\"https://tmssl.akamaized.net/images/flagge/verysmall/136.png?lm=1520611569\" title=\"Portugal\"/>,\n",
              " <img alt=\"Portugal\" class=\"flaggenrahmen\" src=\"https://tmssl.akamaized.net/images/flagge/verysmall/136.png?lm=1520611569\" title=\"Portugal\"/>,\n",
              " <img alt=\"Belgium\" class=\"flaggenrahmen\" src=\"https://tmssl.akamaized.net/images/flagge/verysmall/19.png?lm=1520611569\" title=\"Belgium\"/>,\n",
              " <img alt=\"Belgium\" class=\"flaggenrahmen\" src=\"https://tmssl.akamaized.net/images/flagge/verysmall/19.png?lm=1520611569\" title=\"Belgium\"/>,\n",
              " <img alt=\"Brazil\" class=\"flaggenrahmen\" src=\"https://tmssl.akamaized.net/images/flagge/verysmall/26.png?lm=1520611569\" title=\"Brazil\"/>,\n",
              " <img alt=\"Brazil\" class=\"flaggenrahmen\" src=\"https://tmssl.akamaized.net/images/flagge/verysmall/26.png?lm=1520611569\" title=\"Brazil\"/>,\n",
              " <img alt=\"England\" class=\"flaggenrahmen\" src=\"https://tmssl.akamaized.net/images/flagge/verysmall/189.png?lm=1520611569\" title=\"England\"/>,\n",
              " <img alt=\"England\" class=\"flaggenrahmen\" src=\"https://tmssl.akamaized.net/images/flagge/verysmall/189.png?lm=1520611569\" title=\"England\"/>,\n",
              " <img alt=\"England\" class=\"flaggenrahmen\" src=\"https://tmssl.akamaized.net/images/flagge/verysmall/189.png?lm=1520611569\" title=\"England\"/>,\n",
              " <img alt=\"Trinidad and Tobago\" class=\"flaggenrahmen\" src=\"https://tmssl.akamaized.net/images/flagge/verysmall/170.png?lm=1520611569\" title=\"Trinidad and Tobago\"/>,\n",
              " <img alt=\"England\" class=\"flaggenrahmen\" src=\"https://tmssl.akamaized.net/images/flagge/verysmall/189.png?lm=1520611569\" title=\"England\"/>,\n",
              " <img alt=\"England\" class=\"flaggenrahmen\" src=\"https://tmssl.akamaized.net/images/flagge/verysmall/189.png?lm=1520611569\" title=\"England\"/>,\n",
              " <img alt=\"St. Kitts &amp; Nevis\" class=\"flaggenrahmen\" src=\"https://tmssl.akamaized.net/images/flagge/verysmall/225.png?lm=1520611569\" title=\"St. Kitts &amp; Nevis\"/>,\n",
              " <img alt=\"England\" class=\"flaggenrahmen\" src=\"https://tmssl.akamaized.net/images/flagge/verysmall/189.png?lm=1520611569\" title=\"England\"/>,\n",
              " <img alt=\"Germany\" class=\"flaggenrahmen\" src=\"https://tmssl.akamaized.net/images/flagge/verysmall/40.png?lm=1520612525\" title=\"Germany\"/>,\n",
              " <img alt=\"Germany\" class=\"flaggenrahmen\" src=\"https://tmssl.akamaized.net/images/flagge/verysmall/40.png?lm=1520612525\" title=\"Germany\"/>,\n",
              " <img alt=\"England\" class=\"flaggenrahmen\" src=\"https://tmssl.akamaized.net/images/flagge/verysmall/189.png?lm=1520611569\" title=\"England\"/>,\n",
              " <img alt=\"Jamaica\" class=\"flaggenrahmen\" src=\"https://tmssl.akamaized.net/images/flagge/verysmall/76.png?lm=1520611569\" title=\"Jamaica\"/>,\n",
              " <img alt=\"England\" class=\"flaggenrahmen\" src=\"https://tmssl.akamaized.net/images/flagge/verysmall/189.png?lm=1520611569\" title=\"England\"/>,\n",
              " <img alt=\"Spain\" class=\"flaggenrahmen\" src=\"https://tmssl.akamaized.net/images/flagge/verysmall/157.png?lm=1520611569\" title=\"Spain\"/>,\n",
              " <img alt=\"Spain\" class=\"flaggenrahmen\" src=\"https://tmssl.akamaized.net/images/flagge/verysmall/157.png?lm=1520611569\" title=\"Spain\"/>,\n",
              " <img alt=\"Argentina\" class=\"flaggenrahmen\" src=\"https://tmssl.akamaized.net/images/flagge/verysmall/9.png?lm=1520611569\" title=\"Argentina\"/>,\n",
              " <img alt=\"Argentina\" class=\"flaggenrahmen\" src=\"https://tmssl.akamaized.net/images/flagge/verysmall/9.png?lm=1520611569\" title=\"Argentina\"/>,\n",
              " <img alt=\"England\" class=\"flaggenrahmen\" src=\"https://tmssl.akamaized.net/images/flagge/verysmall/189.png?lm=1520611569\" title=\"England\"/>,\n",
              " <img alt=\"England\" class=\"flaggenrahmen\" src=\"https://tmssl.akamaized.net/images/flagge/verysmall/189.png?lm=1520611569\" title=\"England\"/>,\n",
              " <img alt=\"England\" class=\"flaggenrahmen\" src=\"https://tmssl.akamaized.net/images/flagge/verysmall/189.png?lm=1520611569\" title=\"England\"/>,\n",
              " <img alt=\"Ireland\" class=\"flaggenrahmen\" src=\"https://tmssl.akamaized.net/images/flagge/verysmall/72.png?lm=1520611569\" title=\"Ireland\"/>,\n",
              " <img alt=\"England\" class=\"flaggenrahmen\" src=\"https://tmssl.akamaized.net/images/flagge/verysmall/189.png?lm=1520611569\" title=\"England\"/>,\n",
              " <img alt=\"Senegal\" class=\"flaggenrahmen\" src=\"https://tmssl.akamaized.net/images/flagge/verysmall/149.png?lm=1520611569\" title=\"Senegal\"/>,\n",
              " <img alt=\"Senegal\" class=\"flaggenrahmen\" src=\"https://tmssl.akamaized.net/images/flagge/verysmall/149.png?lm=1520611569\" title=\"Senegal\"/>,\n",
              " <img alt=\"Korea, South\" class=\"flaggenrahmen\" src=\"https://tmssl.akamaized.net/images/flagge/verysmall/87.png?lm=1520611569\" title=\"Korea, South\"/>,\n",
              " <img alt=\"South Korea\" class=\"flaggenrahmen\" src=\"https://tmssl.akamaized.net/images/flagge/verysmall/87.png?lm=1520611569\" title=\"South Korea\"/>,\n",
              " <img alt=\"England\" class=\"flaggenrahmen\" src=\"https://tmssl.akamaized.net/images/flagge/verysmall/189.png?lm=1520611569\" title=\"England\"/>,\n",
              " <img alt=\"England\" class=\"flaggenrahmen\" src=\"https://tmssl.akamaized.net/images/flagge/verysmall/189.png?lm=1520611569\" title=\"England\"/>,\n",
              " <img alt=\"England\" class=\"flaggenrahmen\" src=\"https://tmssl.akamaized.net/images/flagge/verysmall/189.png?lm=1520611569\" title=\"England\"/>,\n",
              " <img alt=\"Ireland\" class=\"flaggenrahmen\" src=\"https://tmssl.akamaized.net/images/flagge/verysmall/72.png?lm=1520611569\" title=\"Ireland\"/>,\n",
              " <img alt=\"Republic of Ireland\" class=\"flaggenrahmen\" src=\"https://tmssl.akamaized.net/images/flagge/verysmall/72.png?lm=1520611569\" title=\"Republic of Ireland\"/>,\n",
              " <img alt=\"England\" class=\"flaggenrahmen\" src=\"https://tmssl.akamaized.net/images/flagge/verysmall/189.png?lm=1520611569\" title=\"England\"/>,\n",
              " <img alt=\"England\" class=\"flaggenrahmen\" src=\"https://tmssl.akamaized.net/images/flagge/verysmall/189.png?lm=1520611569\" title=\"England\"/>,\n",
              " <img alt=\"Portugal\" class=\"flaggenrahmen\" src=\"https://tmssl.akamaized.net/images/flagge/verysmall/136.png?lm=1520611569\" title=\"Portugal\"/>,\n",
              " <img alt=\"Portugal\" class=\"flaggenrahmen\" src=\"https://tmssl.akamaized.net/images/flagge/verysmall/136.png?lm=1520611569\" title=\"Portugal\"/>,\n",
              " <img alt=\"Portugal\" class=\"flaggenrahmen\" src=\"https://tmssl.akamaized.net/images/flagge/verysmall/136.png?lm=1520611569\" title=\"Portugal\"/>,\n",
              " <img alt=\"Portugal\" class=\"flaggenrahmen\" src=\"https://tmssl.akamaized.net/images/flagge/verysmall/136.png?lm=1520611569\" title=\"Portugal\"/>]"
            ]
          },
          "execution_count": 189,
          "metadata": {},
          "output_type": "execute_result"
        }
      ],
      "source": []
    },
    {
      "cell_type": "code",
      "execution_count": 178,
      "metadata": {
        "id": "G6gzfbBqDl9f"
      },
      "outputs": [],
      "source": [
        "\n",
        "\n"
      ]
    },
    {
      "cell_type": "code",
      "execution_count": null,
      "metadata": {
        "id": "p4R4lSe6cHng"
      },
      "outputs": [],
      "source": []
    },
    {
      "cell_type": "code",
      "execution_count": 228,
      "metadata": {
        "colab": {
          "base_uri": "https://localhost:8080/",
          "height": 36
        },
        "id": "pfS2e8KjcHrZ",
        "outputId": "9ad2eca7-cf6a-4046-b94c-92964381fae2"
      },
      "outputs": [
        {
          "data": {
            "application/vnd.google.colaboratory.intrinsic+json": {
              "type": "string"
            },
            "text/plain": [
              "'€100.00m'"
            ]
          },
          "execution_count": 228,
          "metadata": {},
          "output_type": "execute_result"
        }
      ],
      "source": []
    },
    {
      "cell_type": "code",
      "execution_count": 212,
      "metadata": {
        "colab": {
          "base_uri": "https://localhost:8080/",
          "height": 36
        },
        "id": "_bp8vmqua08W",
        "outputId": "f1c3478b-9342-481d-e32c-7307f83b4692"
      },
      "outputs": [
        {
          "data": {
            "application/vnd.google.colaboratory.intrinsic+json": {
              "type": "string"
            },
            "text/plain": [
              "'Borussia Dortmund'"
            ]
          },
          "execution_count": 212,
          "metadata": {},
          "output_type": "execute_result"
        }
      ],
      "source": []
    },
    {
      "cell_type": "code",
      "execution_count": 200,
      "metadata": {
        "id": "o8enEzqLZhGZ"
      },
      "outputs": [],
      "source": []
    },
    {
      "cell_type": "code",
      "execution_count": 201,
      "metadata": {
        "colab": {
          "base_uri": "https://localhost:8080/"
        },
        "id": "Qhs_87njZmg8",
        "outputId": "44826ca0-0086-406f-b8af-3c3457faa56e"
      },
      "outputs": [
        {
          "data": {
            "text/plain": [
              "[]"
            ]
          },
          "execution_count": 201,
          "metadata": {},
          "output_type": "execute_result"
        }
      ],
      "source": []
    },
    {
      "cell_type": "code",
      "execution_count": 202,
      "metadata": {
        "id": "NcqCtG59Zk1a"
      },
      "outputs": [],
      "source": []
    },
    {
      "cell_type": "code",
      "execution_count": 183,
      "metadata": {
        "id": "iNXEcPLNYwT1"
      },
      "outputs": [],
      "source": []
    },
    {
      "cell_type": "code",
      "execution_count": 195,
      "metadata": {
        "id": "uBTavk20YTQu"
      },
      "outputs": [],
      "source": []
    },
    {
      "cell_type": "code",
      "execution_count": 185,
      "metadata": {
        "colab": {
          "base_uri": "https://localhost:8080/"
        },
        "id": "sP4QKON_YHKv",
        "outputId": "576e9a0b-e982-4032-d1a9-e4f03fb7e0f8"
      },
      "outputs": [
        {
          "data": {
            "text/plain": [
              "['Kylian Mbappé',\n",
              " 'Erling Haaland',\n",
              " 'Vinicius Junior',\n",
              " 'Mohamed Salah',\n",
              " 'Harry Kane',\n",
              " 'Romelu Lukaku',\n",
              " 'Bruno Fernandes',\n",
              " 'Kevin De Bruyne',\n",
              " 'Neymar',\n",
              " 'Phil Foden',\n",
              " 'Jadon Sancho',\n",
              " 'Marcus Rashford',\n",
              " 'Joshua Kimmich',\n",
              " 'Raheem Sterling',\n",
              " 'Pedri',\n",
              " 'Lautaro Martínez',\n",
              " 'Trent Alexander-Arnold',\n",
              " 'Jack Grealish',\n",
              " 'Sadio Mané',\n",
              " 'Heung-min Son',\n",
              " 'Jude Bellingham',\n",
              " 'Declan Rice',\n",
              " 'Mason Mount',\n",
              " 'Rúben Dias',\n",
              " 'Bernardo Silva']"
            ]
          },
          "execution_count": 185,
          "metadata": {},
          "output_type": "execute_result"
        }
      ],
      "source": []
    },
    {
      "cell_type": "code",
      "execution_count": 171,
      "metadata": {
        "colab": {
          "base_uri": "https://localhost:8080/"
        },
        "id": "uBM5MoUpYCMi",
        "outputId": "7e4859ff-8f66-45cc-865f-70d1eec856b5"
      },
      "outputs": [
        {
          "data": {
            "text/plain": [
              "bs4.element.ResultSet"
            ]
          },
          "execution_count": 171,
          "metadata": {},
          "output_type": "execute_result"
        }
      ],
      "source": []
    },
    {
      "cell_type": "code",
      "execution_count": 170,
      "metadata": {
        "colab": {
          "base_uri": "https://localhost:8080/"
        },
        "id": "_sdooemKRG0-",
        "outputId": "3546bd48-eae5-49a2-a6ab-55eade040b5c"
      },
      "outputs": [
        {
          "name": "stdout",
          "output_type": "stream",
          "text": [
            "<img alt=\"Kylian Mbappé\" class=\"bilderrahmen-fixed\" src=\"https://img.a.transfermarkt.technology/portrait/small/342229-1632686046.jpg?lm=1\" title=\"Kylian Mbappé\"/>\n",
            "<img alt=\"Erling Haaland\" class=\"bilderrahmen-fixed\" src=\"https://img.a.transfermarkt.technology/portrait/small/418560-1632685669.jpg?lm=1\" title=\"Erling Haaland\"/>\n",
            "<img alt=\"Vinicius Junior\" class=\"bilderrahmen-fixed\" src=\"https://img.a.transfermarkt.technology/portrait/small/371998-1624277492.jpg?lm=1\" title=\"Vinicius Junior\"/>\n",
            "<img alt=\"Mohamed Salah\" class=\"bilderrahmen-fixed\" src=\"https://img.a.transfermarkt.technology/portrait/small/148455-1546611604.jpg?lm=1\" title=\"Mohamed Salah\"/>\n",
            "<img alt=\"Harry Kane\" class=\"bilderrahmen-fixed\" src=\"https://img.a.transfermarkt.technology/portrait/small/132098-1623778520.jpg?lm=1\" title=\"Harry Kane\"/>\n",
            "<img alt=\"Romelu Lukaku\" class=\"bilderrahmen-fixed\" src=\"https://img.a.transfermarkt.technology/portrait/small/96341-1596033546.jpg?lm=1\" title=\"Romelu Lukaku\"/>\n",
            "<img alt=\"Bruno Fernandes\" class=\"bilderrahmen-fixed\" src=\"https://img.a.transfermarkt.technology/portrait/small/240306-1636537174.jpg?lm=1\" title=\"Bruno Fernandes\"/>\n",
            "<img alt=\"Kevin De Bruyne\" class=\"bilderrahmen-fixed\" src=\"https://img.a.transfermarkt.technology/portrait/small/88755-1626449012.jpg?lm=1\" title=\"Kevin De Bruyne\"/>\n",
            "<img alt=\"Neymar\" class=\"bilderrahmen-fixed\" src=\"https://img.a.transfermarkt.technology/portrait/small/68290-1632687616.jpg?lm=1\" title=\"Neymar\"/>\n",
            "<img alt=\"Phil Foden\" class=\"bilderrahmen-fixed\" src=\"https://img.a.transfermarkt.technology/portrait/small/406635-1594986905.jpg?lm=1\" title=\"Phil Foden\"/>\n",
            "<img alt=\"Jadon Sancho\" class=\"bilderrahmen-fixed\" src=\"https://img.a.transfermarkt.technology/portrait/small/401173-1632686361.jpg?lm=1\" title=\"Jadon Sancho\"/>\n",
            "<img alt=\"Marcus Rashford\" class=\"bilderrahmen-fixed\" src=\"https://img.a.transfermarkt.technology/portrait/small/258923-1565603308.png?lm=1\" title=\"Marcus Rashford\"/>\n",
            "<img alt=\"Joshua Kimmich\" class=\"bilderrahmen-fixed\" src=\"https://img.a.transfermarkt.technology/portrait/small/161056-1636537308.jpg?lm=1\" title=\"Joshua Kimmich\"/>\n",
            "<img alt=\"Raheem Sterling\" class=\"bilderrahmen-fixed\" src=\"https://img.a.transfermarkt.technology/portrait/small/134425-1577051521.jpg?lm=1\" title=\"Raheem Sterling\"/>\n",
            "<img alt=\"Pedri\" class=\"bilderrahmen-fixed\" src=\"https://img.a.transfermarkt.technology/portrait/small/683840-1620304992.jpg?lm=1\" title=\"Pedri\"/>\n",
            "<img alt=\"Lautaro Martínez\" class=\"bilderrahmen-fixed\" src=\"https://img.a.transfermarkt.technology/portrait/small/406625-1535015019.jpg?lm=1\" title=\"Lautaro Martínez\"/>\n",
            "<img alt=\"Trent Alexander-Arnold\" class=\"bilderrahmen-fixed\" src=\"https://img.a.transfermarkt.technology/portrait/small/314353-1559826986.jpg?lm=1\" title=\"Trent Alexander-Arnold\"/>\n",
            "<img alt=\"Jack Grealish\" class=\"bilderrahmen-fixed\" src=\"https://img.a.transfermarkt.technology/portrait/small/203460-1581417066.jpg?lm=1\" title=\"Jack Grealish\"/>\n",
            "<img alt=\"Sadio Mané\" class=\"bilderrahmen-fixed\" src=\"https://img.a.transfermarkt.technology/portrait/small/200512-1559901727.jpg?lm=1\" title=\"Sadio Mané\"/>\n",
            "<img alt=\"Heung-min Son\" class=\"bilderrahmen-fixed\" src=\"https://img.a.transfermarkt.technology/portrait/small/91845-1599987413.jpg?lm=1\" title=\"Heung-min Son\"/>\n",
            "<img alt=\"Jude Bellingham\" class=\"bilderrahmen-fixed\" src=\"https://img.a.transfermarkt.technology/portrait/small/581678-1603353524.jpg?lm=1\" title=\"Jude Bellingham\"/>\n",
            "<img alt=\"Declan Rice\" class=\"bilderrahmen-fixed\" src=\"https://img.a.transfermarkt.technology/portrait/small/357662-1624883831.jpg?lm=1\" title=\"Declan Rice\"/>\n",
            "<img alt=\"Mason Mount\" class=\"bilderrahmen-fixed\" src=\"https://img.a.transfermarkt.technology/portrait/small/346483-1642175298.jpg?lm=1\" title=\"Mason Mount\"/>\n",
            "<img alt=\"Rúben Dias\" class=\"bilderrahmen-fixed\" src=\"https://img.a.transfermarkt.technology/portrait/small/258004-1572340728.jpg?lm=1\" title=\"Rúben Dias\"/>\n",
            "<img alt=\"Bernardo Silva\" class=\"bilderrahmen-fixed\" src=\"https://img.a.transfermarkt.technology/portrait/small/241641-1520189140.jpg?lm=1\" title=\"Bernardo Silva\"/>\n"
          ]
        }
      ],
      "source": []
    },
    {
      "cell_type": "code",
      "execution_count": 152,
      "metadata": {
        "id": "6TTNKLXgQ4c8"
      },
      "outputs": [],
      "source": []
    },
    {
      "cell_type": "code",
      "execution_count": 153,
      "metadata": {
        "id": "iZviqkH9RC2s"
      },
      "outputs": [],
      "source": []
    },
    {
      "cell_type": "code",
      "execution_count": 142,
      "metadata": {
        "colab": {
          "base_uri": "https://localhost:8080/"
        },
        "id": "J34FxynPJY9b",
        "outputId": "0feefe08-5cad-4ba7-af9c-9ad3d86909c5"
      },
      "outputs": [
        {
          "data": {
            "text/plain": [
              "[<img alt=\"Kylian Mbappé\" class=\"bilderrahmen-fixed\" src=\"https://img.a.transfermarkt.technology/portrait/small/342229-1632686046.jpg?lm=1\" title=\"Kylian Mbappé\"/>,\n",
              " <img alt=\"Erling Haaland\" class=\"bilderrahmen-fixed\" src=\"https://img.a.transfermarkt.technology/portrait/small/418560-1632685669.jpg?lm=1\" title=\"Erling Haaland\"/>,\n",
              " <img alt=\"Vinicius Junior\" class=\"bilderrahmen-fixed\" src=\"https://img.a.transfermarkt.technology/portrait/small/371998-1624277492.jpg?lm=1\" title=\"Vinicius Junior\"/>,\n",
              " <img alt=\"Mohamed Salah\" class=\"bilderrahmen-fixed\" src=\"https://img.a.transfermarkt.technology/portrait/small/148455-1546611604.jpg?lm=1\" title=\"Mohamed Salah\"/>,\n",
              " <img alt=\"Harry Kane\" class=\"bilderrahmen-fixed\" src=\"https://img.a.transfermarkt.technology/portrait/small/132098-1623778520.jpg?lm=1\" title=\"Harry Kane\"/>,\n",
              " <img alt=\"Romelu Lukaku\" class=\"bilderrahmen-fixed\" src=\"https://img.a.transfermarkt.technology/portrait/small/96341-1596033546.jpg?lm=1\" title=\"Romelu Lukaku\"/>,\n",
              " <img alt=\"Bruno Fernandes\" class=\"bilderrahmen-fixed\" src=\"https://img.a.transfermarkt.technology/portrait/small/240306-1636537174.jpg?lm=1\" title=\"Bruno Fernandes\"/>,\n",
              " <img alt=\"Kevin De Bruyne\" class=\"bilderrahmen-fixed\" src=\"https://img.a.transfermarkt.technology/portrait/small/88755-1626449012.jpg?lm=1\" title=\"Kevin De Bruyne\"/>,\n",
              " <img alt=\"Neymar\" class=\"bilderrahmen-fixed\" src=\"https://img.a.transfermarkt.technology/portrait/small/68290-1632687616.jpg?lm=1\" title=\"Neymar\"/>,\n",
              " <img alt=\"Phil Foden\" class=\"bilderrahmen-fixed\" src=\"https://img.a.transfermarkt.technology/portrait/small/406635-1594986905.jpg?lm=1\" title=\"Phil Foden\"/>,\n",
              " <img alt=\"Jadon Sancho\" class=\"bilderrahmen-fixed\" src=\"https://img.a.transfermarkt.technology/portrait/small/401173-1632686361.jpg?lm=1\" title=\"Jadon Sancho\"/>,\n",
              " <img alt=\"Marcus Rashford\" class=\"bilderrahmen-fixed\" src=\"https://img.a.transfermarkt.technology/portrait/small/258923-1565603308.png?lm=1\" title=\"Marcus Rashford\"/>,\n",
              " <img alt=\"Joshua Kimmich\" class=\"bilderrahmen-fixed\" src=\"https://img.a.transfermarkt.technology/portrait/small/161056-1636537308.jpg?lm=1\" title=\"Joshua Kimmich\"/>,\n",
              " <img alt=\"Raheem Sterling\" class=\"bilderrahmen-fixed\" src=\"https://img.a.transfermarkt.technology/portrait/small/134425-1577051521.jpg?lm=1\" title=\"Raheem Sterling\"/>,\n",
              " <img alt=\"Pedri\" class=\"bilderrahmen-fixed\" src=\"https://img.a.transfermarkt.technology/portrait/small/683840-1620304992.jpg?lm=1\" title=\"Pedri\"/>,\n",
              " <img alt=\"Lautaro Martínez\" class=\"bilderrahmen-fixed\" src=\"https://img.a.transfermarkt.technology/portrait/small/406625-1535015019.jpg?lm=1\" title=\"Lautaro Martínez\"/>,\n",
              " <img alt=\"Trent Alexander-Arnold\" class=\"bilderrahmen-fixed\" src=\"https://img.a.transfermarkt.technology/portrait/small/314353-1559826986.jpg?lm=1\" title=\"Trent Alexander-Arnold\"/>,\n",
              " <img alt=\"Jack Grealish\" class=\"bilderrahmen-fixed\" src=\"https://img.a.transfermarkt.technology/portrait/small/203460-1581417066.jpg?lm=1\" title=\"Jack Grealish\"/>,\n",
              " <img alt=\"Sadio Mané\" class=\"bilderrahmen-fixed\" src=\"https://img.a.transfermarkt.technology/portrait/small/200512-1559901727.jpg?lm=1\" title=\"Sadio Mané\"/>,\n",
              " <img alt=\"Heung-min Son\" class=\"bilderrahmen-fixed\" src=\"https://img.a.transfermarkt.technology/portrait/small/91845-1599987413.jpg?lm=1\" title=\"Heung-min Son\"/>,\n",
              " <img alt=\"Jude Bellingham\" class=\"bilderrahmen-fixed\" src=\"https://img.a.transfermarkt.technology/portrait/small/581678-1603353524.jpg?lm=1\" title=\"Jude Bellingham\"/>,\n",
              " <img alt=\"Declan Rice\" class=\"bilderrahmen-fixed\" src=\"https://img.a.transfermarkt.technology/portrait/small/357662-1624883831.jpg?lm=1\" title=\"Declan Rice\"/>,\n",
              " <img alt=\"Mason Mount\" class=\"bilderrahmen-fixed\" src=\"https://img.a.transfermarkt.technology/portrait/small/346483-1642175298.jpg?lm=1\" title=\"Mason Mount\"/>,\n",
              " <img alt=\"Rúben Dias\" class=\"bilderrahmen-fixed\" src=\"https://img.a.transfermarkt.technology/portrait/small/258004-1572340728.jpg?lm=1\" title=\"Rúben Dias\"/>,\n",
              " <img alt=\"Bernardo Silva\" class=\"bilderrahmen-fixed\" src=\"https://img.a.transfermarkt.technology/portrait/small/241641-1520189140.jpg?lm=1\" title=\"Bernardo Silva\"/>]"
            ]
          },
          "execution_count": 142,
          "metadata": {},
          "output_type": "execute_result"
        }
      ],
      "source": []
    },
    {
      "cell_type": "code",
      "execution_count": 121,
      "metadata": {
        "colab": {
          "base_uri": "https://localhost:8080/"
        },
        "id": "aYGoskwqNxLA",
        "outputId": "40fbfcbb-7248-4a87-bf59-9488bdd4e69b"
      },
      "outputs": [
        {
          "data": {
            "text/plain": [
              "[]"
            ]
          },
          "execution_count": 121,
          "metadata": {},
          "output_type": "execute_result"
        }
      ],
      "source": []
    },
    {
      "cell_type": "code",
      "execution_count": 133,
      "metadata": {
        "colab": {
          "base_uri": "https://localhost:8080/"
        },
        "id": "C2aj9AaDNO7T",
        "outputId": "626bfc2b-331b-4d68-8bb4-9be5ff58445d"
      },
      "outputs": [
        {
          "name": "stdout",
          "output_type": "stream",
          "text": [
            "[]\n",
            "[]\n",
            "[]\n",
            "[]\n",
            "[]\n",
            "[]\n",
            "[]\n",
            "[]\n",
            "[]\n",
            "[]\n"
          ]
        }
      ],
      "source": []
    },
    {
      "cell_type": "code",
      "execution_count": 134,
      "metadata": {
        "colab": {
          "base_uri": "https://localhost:8080/"
        },
        "id": "KoPSsEFaQXVX",
        "outputId": "3b6cbcc4-d46f-4082-ec7a-698cb46dac33"
      },
      "outputs": [
        {
          "data": {
            "text/plain": [
              "[]"
            ]
          },
          "execution_count": 134,
          "metadata": {},
          "output_type": "execute_result"
        }
      ],
      "source": [
        "Players"
      ]
    }
  ],
  "metadata": {
    "colab": {
      "name": "veri_cekmek.ipynb",
      "provenance": []
    },
    "kernelspec": {
      "display_name": "Python 3",
      "name": "python3"
    },
    "language_info": {
      "codemirror_mode": {
        "name": "ipython",
        "version": 3
      },
      "file_extension": ".py",
      "mimetype": "text/x-python",
      "name": "python",
      "nbconvert_exporter": "python",
      "pygments_lexer": "ipython3",
      "version": "3.9.7"
    }
  },
  "nbformat": 4,
  "nbformat_minor": 0
}
